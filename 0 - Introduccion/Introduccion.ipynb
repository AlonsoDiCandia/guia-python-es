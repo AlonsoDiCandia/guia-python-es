{
  "cells": [
    {
      "cell_type": "markdown",
      "metadata": {
        "id": "dHssCOLZXAum"
      },
      "source": [
        "# Guia python 2022 - by AlonsoDiCandia\n",
        "\n"
      ]
    },
    {
      "cell_type": "markdown",
      "metadata": {
        "id": "iazJtfbbKGCu"
      },
      "source": [
        "Hola! soy AlonsoDiCandia, programador backend y voy a intentar de hacer una guia para poder enseñarte a programar. Esta guia o curso, como quieras llamarle, tiene como proposito agrupar cierta información que podemos encontrar en internet (que muchas veces esta en ingles) y desde ahi tomar lo que nos sirve en nuestro camino hacia el aprendizaje de una herramienta que sin dudas hara tu vida mas simple. \n",
        "\n",
        "Como lenguaje a enseñar he decidido usar Python ya que es el lenguaje con el que mas comodo me siento dado la experiencia y tambien por el hecho que me encuentro dando clases de dicho lenguaje en un colegio de la comuna de Chillan, Chile.\n",
        "\n",
        "Para comenzar primero me gustaria comentarte el tipo de archivo que estas viendo, puede que notaras que la extension [[1]](htttps://google.cl) que estas viendo es `ipynb` esto nos quiere decir que se trata de un archivo llamado jupyter notebook y su principal ventaja es que dentro del mismo archivo puedo escribir texto dentor de una celda de texto, como la que estas viendo y leyendo ahora, agregar enlaces a paginas webs como puedes ver al lado de la palabra extensión (te deje el link hacia la definicion de extension), agregar imagenes, ajustar el texto, colores, tamaño de la letra entre otros, pero eso no es todo, ademas de poder escribir texto un archivo jupyter notebook, este nos permite ejecutar codigo dentro del mismo archivo haciendo uso de lo que se conoce como celda de codigo, para abrir una nueva celda de codigo podemos hacerlo de 2 formas que sin importar el ambiente donde abras este archivo (yo en lo personal uso Visual Studio Code y Google Colabs) puedas ejecutar dichas celdas, veamos como.\n",
        "\n"
      ]
    },
    {
      "cell_type": "markdown",
      "metadata": {},
      "source": [
        "## Celdas"
      ]
    },
    {
      "cell_type": "markdown",
      "metadata": {},
      "source": [
        "### Texto\n",
        "Una celda de texto es como su nombre lo indica una celda capaz de soportar texto, para poder abrir una nueva celda de texto podemos ir a la parte superior de nuestro archivo y dar click donde nos dice `Markdown` o `Texto` dependiendo del ambiente donde abrieras el archivo. Se veria algo asi:\n",
        "\n",
        "![Celda de texto](img/celda_texto.png)\n",
        "\n",
        "Otra forma seria ir abajo de cualquier celda y veremos que nos aparecen dos marcadores como podemos ver en la siguiente imagen:\n",
        "\n",
        "![Celda de texto 2](img/celda_texto2.png)"
      ]
    },
    {
      "cell_type": "markdown",
      "metadata": {},
      "source": [
        "### Codigo\n",
        "\n",
        "Para poder abrir una celda de codigo analogamente podemos dar click donde dice `Code` o `Codigo` y se nos abrira una celda de codigo como la que tenemos abajo.\n",
        "\n",
        "![Celda de codigo](img/celda_codigo.png)\n",
        "\n"
      ]
    },
    {
      "cell_type": "code",
      "execution_count": 1,
      "metadata": {},
      "outputs": [],
      "source": [
        "# Soy una celda de codigo"
      ]
    },
    {
      "cell_type": "markdown",
      "metadata": {},
      "source": [
        "Podemos ver que dentro de nuestra celda de codigo tenemos una frase que comienza con un simbolo #, esto es un comentario."
      ]
    },
    {
      "cell_type": "markdown",
      "metadata": {},
      "source": [
        "## Comentarios\n",
        "\n",
        "Los comentarios en la programacion son todas aquellas lineas de codigo que comienzen con un simbolo `#` y estas no son tomadas en cuenta por el compilador de python [[2]](https://algun-lugar). Nos sirven para poder dejar como su nombre lo dice, comentarios a otro ser humano que lea nuestro codigo."
      ]
    },
    {
      "cell_type": "markdown",
      "metadata": {},
      "source": [
        "## Ejecucion del codigo\n",
        "\n",
        "Algo importante que mencionar antes de comenzar con nuestra guia/curso es que el codigo que nosotros escribimos es pasado al computador de forma ordenada, es decir, que toda linea que sea escrita sera leida por el compilador de python o a mas grandes rasgos por el computador donde estes trabajando de arriba a abajo y desde izquierda a derecha. Habiendo dicho esto, comencemos!"
      ]
    },
    {
      "cell_type": "markdown",
      "metadata": {
        "id": "7bOuYpS6KIcC"
      },
      "source": [
        "# Programación, que significa ?\n",
        "\n",
        "Segun [developer.mozilla.org](https://developer.mozilla.org/es/docs/Glossary/Computer_Programming) La programación de computadoras es un proceso de componer y organizar un conjunto de instrucciones. Éstas le indican a una computadora/software qué hacer en un lenguaje comprensible para la computadora. Estas instrucciones pueden presentarse en diferentes lenguajes, tales como C++, Java, JavaScript, HTML, Python, Ruby y Rust.\n",
        "\n",
        "Para esta guia usaremos Python en su version 3.7 o superior, todo dependera de donde estes ejecutando este archvio, por lo que para ver que version especificamente estas usando puedes usar el siguiente comando escrito en la celda de mas abajo."
      ]
    },
    {
      "cell_type": "code",
      "execution_count": 2,
      "metadata": {
        "colab": {
          "base_uri": "https://localhost:8080/"
        },
        "id": "MR_vJU7kKorX",
        "outputId": "4ba95f03-1241-427e-e568-8d1c92792798"
      },
      "outputs": [
        {
          "name": "stdout",
          "output_type": "stream",
          "text": [
            "3.8.9\n"
          ]
        }
      ],
      "source": [
        "import sys\n",
        "\n",
        "version_python = sys.version.split(' ')[0]\n",
        "print(version_python)"
      ]
    },
    {
      "cell_type": "markdown",
      "metadata": {},
      "source": [
        "En mi caso podemos ver que estoy usando la version 3.8.9."
      ]
    },
    {
      "cell_type": "markdown",
      "metadata": {},
      "source": [
        "## Primera linea de codigo\n",
        "\n",
        "\n",
        "Para comenzar esta guia quiero mostrarte como podemos imprimir codigo en pantalla, esto quiere decir que le pedimos al computador que nos muestre a nosotros lo que esta ejecutando, en este caso usamos una funcion (ya veremos lo que es una funcion) de python llamada `print()`, esta me permite escribir algo dentro de ella entre comillas y lo que sea que escriba dentro de ella me sera devuelto por el computador. "
      ]
    },
    {
      "cell_type": "code",
      "execution_count": 6,
      "metadata": {},
      "outputs": [
        {
          "name": "stdout",
          "output_type": "stream",
          "text": [
            "Hola mundo!\n"
          ]
        }
      ],
      "source": [
        "print('Hola mundo!')"
      ]
    },
    {
      "cell_type": "markdown",
      "metadata": {
        "id": "G-4hF295LFrR"
      },
      "source": [
        "# Operadores \n",
        "\n",
        "Es hora de empezar a escribir instrucciones mas complejas, para ello veremos los operadores matematicos, estos nos ayudaran a hacer tareas y computos que son algo mas dificiles para nosotros (mamiferos bipedos) pero de muy facil ejecucion para una computadora.\n",
        "\n",
        "## Adición\n",
        "\n",
        "El primer operador a ver sera el operador `+`. En python para poder realizar la operacion *suma* debemos usar el simbolo de adición `+`.\n"
      ]
    },
    {
      "cell_type": "code",
      "execution_count": 3,
      "metadata": {
        "colab": {
          "base_uri": "https://localhost:8080/"
        },
        "id": "YdW1vVraQ6lT",
        "outputId": "54492ef9-b1f2-4ce1-edf4-606c7386bd7c"
      },
      "outputs": [
        {
          "data": {
            "text/plain": [
              "8"
            ]
          },
          "execution_count": 3,
          "metadata": {},
          "output_type": "execute_result"
        }
      ],
      "source": [
        "3+5"
      ]
    },
    {
      "cell_type": "markdown",
      "metadata": {},
      "source": [
        "Felicidades! acabas de escribir tu primera instruccion o linea de codigo, puede ser simple pero es poderosa, presta atencion que le dijiste al computador 3+5 pero este te devolvio un 8 ya que fue el equipo/computador quien se encargo de realizar la operacion solicitada. Sigamos viendo mas ejemplos."
      ]
    },
    {
      "cell_type": "code",
      "execution_count": 5,
      "metadata": {
        "colab": {
          "base_uri": "https://localhost:8080/"
        },
        "id": "ZHlUrt03RsaE",
        "outputId": "7d31d946-d44a-4cfb-b5f7-5e7d9920d254"
      },
      "outputs": [
        {
          "data": {
            "text/plain": [
              "1615"
            ]
          },
          "execution_count": 5,
          "metadata": {},
          "output_type": "execute_result"
        }
      ],
      "source": [
        "# Mas ejemplos de sumas\n",
        "8+15\n",
        "33+87\n",
        "58+784\n",
        "958+657"
      ]
    },
    {
      "cell_type": "markdown",
      "metadata": {},
      "source": [
        "Mmmm, antes de seguir creo que si observaste bien hicimos 4 adiciones entre distintos numeros, pero solo se ha mostrado un resultado, porque? Por que jupyter notebook por defecto muestra solo la ultima operacion que le hemos dicho que ejecute, olvidando todo lo demas. Para poder mostrar todos los resultados debemos usar la funcion `print()` que vimos mas arriba y dejame decirte que si bien dije aceptaba texto entre comillas tambien es capaz de recibir operaciones e imprimir en pantalla dicho resultado, si tomamos las 4 operaciones de arriba y a todas las colocamos dentro de la funcion `print()` tendremos lo siguien."
      ]
    },
    {
      "cell_type": "code",
      "execution_count": 7,
      "metadata": {},
      "outputs": [
        {
          "name": "stdout",
          "output_type": "stream",
          "text": [
            "23\n",
            "120\n",
            "842\n",
            "1615\n"
          ]
        }
      ],
      "source": [
        "# Ejemplos de suma usando print()\n",
        "print(8+15)\n",
        "print(33+87)\n",
        "print(58+784)\n",
        "print(958+657)"
      ]
    },
    {
      "cell_type": "markdown",
      "metadata": {},
      "source": [
        "Podemos ver que ahora efectivamente se han realizado e impreso en pantalla las 4 sumas solicitadas"
      ]
    },
    {
      "cell_type": "markdown",
      "metadata": {
        "id": "wV8rw-4SSYfT"
      },
      "source": [
        "## Substracción\n",
        "\n",
        "Al igual que con la Adición, llamamos al simbolo de *substracción* `-` y este nos permite realizar restas o subtracciones. Veamos un par de ejemplos."
      ]
    },
    {
      "cell_type": "code",
      "execution_count": null,
      "metadata": {
        "colab": {
          "base_uri": "https://localhost:8080/"
        },
        "id": "H8SXo9bRSYC5",
        "outputId": "9899ed98-91b3-4484-8af5-044768b80fe2"
      },
      "outputs": [
        {
          "data": {
            "text/plain": [
              "-2"
            ]
          },
          "execution_count": 4,
          "metadata": {},
          "output_type": "execute_result"
        }
      ],
      "source": [
        "3-5"
      ]
    },
    {
      "cell_type": "markdown",
      "metadata": {},
      "source": [
        "Notar que python y en general los lenguajes de programacion trabajan con numeros negativos."
      ]
    },
    {
      "cell_type": "code",
      "execution_count": 8,
      "metadata": {},
      "outputs": [
        {
          "name": "stdout",
          "output_type": "stream",
          "text": [
            "7\n",
            "-76\n",
            "-440\n",
            "83\n"
          ]
        }
      ],
      "source": [
        "# Ejemplos de restas usando print()\n",
        "print(15-8)\n",
        "print(11-87)\n",
        "print(124-564)\n",
        "print(88-5)"
      ]
    },
    {
      "cell_type": "markdown",
      "metadata": {
        "id": "wM1uGWvOTa3E"
      },
      "source": [
        "## Multiplicación\n",
        "\n",
        "Para poder realizar multiplicaciones debemos usar el simbolo `*`."
      ]
    },
    {
      "cell_type": "code",
      "execution_count": null,
      "metadata": {
        "colab": {
          "base_uri": "https://localhost:8080/"
        },
        "id": "Ygj8Blj9LE8c",
        "outputId": "b9a68daa-8d82-4ba0-cf9b-d57cb07448a7"
      },
      "outputs": [
        {
          "data": {
            "text/plain": [
              "15"
            ]
          },
          "execution_count": 15,
          "metadata": {},
          "output_type": "execute_result"
        }
      ],
      "source": [
        "3*5"
      ]
    },
    {
      "cell_type": "code",
      "execution_count": 9,
      "metadata": {},
      "outputs": [
        {
          "name": "stdout",
          "output_type": "stream",
          "text": [
            "48\n",
            "4144\n",
            "26290\n",
            "3384\n"
          ]
        }
      ],
      "source": [
        "# Ejemplos de multiplicacion usando print()\n",
        "print(6*8)\n",
        "print(56*74)\n",
        "print(55*478)\n",
        "print(36*94)"
      ]
    },
    {
      "cell_type": "markdown",
      "metadata": {
        "id": "UIrJ8rurTygE"
      },
      "source": [
        "## División \n",
        "\n",
        "Analogamente para poder realizar una division usamos el simbolo `/`.\n"
      ]
    },
    {
      "cell_type": "code",
      "execution_count": null,
      "metadata": {
        "colab": {
          "base_uri": "https://localhost:8080/"
        },
        "id": "t07x1Lb5T5Vd",
        "outputId": "8be079a3-8532-4ff5-c11b-d5a4b835c8f5"
      },
      "outputs": [
        {
          "data": {
            "text/plain": [
              "0.6"
            ]
          },
          "execution_count": 16,
          "metadata": {},
          "output_type": "execute_result"
        }
      ],
      "source": [
        "3/5"
      ]
    },
    {
      "cell_type": "code",
      "execution_count": 11,
      "metadata": {},
      "outputs": [
        {
          "name": "stdout",
          "output_type": "stream",
          "text": [
            "5.0\n",
            "13.6\n",
            "6.466666666666667\n",
            "33.333333333333336\n"
          ]
        }
      ],
      "source": [
        "# Ejemplos de division usando print()\n",
        "print(50/10)\n",
        "print(68/5)\n",
        "print(97/15)\n",
        "print(100/3)"
      ]
    },
    {
      "cell_type": "markdown",
      "metadata": {
        "id": "3qQ3aIx7Unib"
      },
      "source": [
        "## Parte entera de una división\n",
        "\n",
        "Hay veces como programadores que nos importa mas cuantas veces exactamente cabe un numero `a` dentro de un numero `b` sin importar la fracion que nos sobra, en python podemos obtener esta informacion usando el simbolo `//` y usando los mismos ejemplos de arriba veamos las diferencias al usar `/` vs `//`."
      ]
    },
    {
      "cell_type": "code",
      "execution_count": 13,
      "metadata": {
        "colab": {
          "base_uri": "https://localhost:8080/"
        },
        "id": "1lDmk4r7Umoq",
        "outputId": "d954f266-4a87-4cd3-c14d-433c646941f9"
      },
      "outputs": [
        {
          "name": "stdout",
          "output_type": "stream",
          "text": [
            "5\n",
            "13\n",
            "6\n",
            "33\n"
          ]
        }
      ],
      "source": [
        "# Ejemplos parte entera usando print()\n",
        "print(50//10) # Podemos ver que este resultado se mantendra casi igual, notar que ahora la respuesta es 5 y no 5.0. Hablaremos de esta diferencia dentro de poco en este mismo archivo.\n",
        "print(68//5)  # Aca podemos ver un cambio mas grande, como 5 cabe exactamente 13 veces dentro de 68, es este el resultado que python nos entregara, lo mismo pasa con los ejemplos de abajo\n",
        "print(97//15)\n",
        "print(100//3)"
      ]
    },
    {
      "cell_type": "markdown",
      "metadata": {
        "id": "kwrBTp-5U_8h"
      },
      "source": [
        "## Resto de una división \n",
        "\n",
        "Por el contrario, si lo que buscamos es obtener el resto de una division, es decir, lo que nos quedo, podemos usar el simbolo `%`."
      ]
    },
    {
      "cell_type": "code",
      "execution_count": null,
      "metadata": {
        "colab": {
          "base_uri": "https://localhost:8080/"
        },
        "id": "h3t6draGVMeB",
        "outputId": "f3d4b1ac-4e84-4aa2-ed38-396e7bfbc849"
      },
      "outputs": [
        {
          "data": {
            "text/plain": [
              "2"
            ]
          },
          "execution_count": 6,
          "metadata": {},
          "output_type": "execute_result"
        }
      ],
      "source": [
        "10%4 # Notar que lo que python hace es dividir 10 entre 4 y nos entrega como resultado el resto, que en este caso es 2."
      ]
    },
    {
      "cell_type": "code",
      "execution_count": 14,
      "metadata": {},
      "outputs": [
        {
          "name": "stdout",
          "output_type": "stream",
          "text": [
            "0\n",
            "3\n",
            "7\n",
            "1\n"
          ]
        }
      ],
      "source": [
        "# Ejemplod de resto de una division usando print()\n",
        "print(50%10)\n",
        "print(68%5)\n",
        "print(97%15)\n",
        "print(100%3)"
      ]
    },
    {
      "cell_type": "markdown",
      "metadata": {
        "id": "iEC1uRpsUIlN"
      },
      "source": [
        "## Exponencial\n",
        "\n",
        "Por ultimo, el ultimo operador que veremos sera el operador exponencial que nos permite elevar a un numero `n` cualquier numero usando el simbolo `**`.\n"
      ]
    },
    {
      "cell_type": "code",
      "execution_count": null,
      "metadata": {
        "colab": {
          "base_uri": "https://localhost:8080/"
        },
        "id": "ryo7yUqfUXRF",
        "outputId": "9559965c-5bc6-4772-9b54-2dd9ed43685c"
      },
      "outputs": [
        {
          "data": {
            "text/plain": [
              "243"
            ]
          },
          "execution_count": 19,
          "metadata": {},
          "output_type": "execute_result"
        }
      ],
      "source": [
        "2**3"
      ]
    },
    {
      "cell_type": "code",
      "execution_count": 16,
      "metadata": {},
      "outputs": [
        {
          "name": "stdout",
          "output_type": "stream",
          "text": [
            "16\n",
            "125\n",
            "1296\n",
            "134217728\n"
          ]
        }
      ],
      "source": [
        "# Ejemplod exponencial usando print()\n",
        "print(4**2)\n",
        "print(5**3)\n",
        "print(6**4)\n",
        "print(8**9)"
      ]
    },
    {
      "cell_type": "markdown",
      "metadata": {
        "id": "daal-bHfVf0M"
      },
      "source": [
        "# Tipos de datos\n",
        "\n",
        "Una de los detalles que marcan la diferencia a la hora de programar es saber con que tipo de datos estamos trabajando al escribir codigo, por esto es importante saber sus diferencias y las ventajas que tienen unos sobre otros a la hora de usarlos para solucionar ciertos problemas. Si bien uso la palabra 'ventajas' eso no quiere decir que exista un tipo de dato 'mejor' que otro en un contexto global, sino que dado el problema al que nos enfrentemos cierto tipo de dato puede que nos sea mas util que otro.\n",
        "\n",
        "Algunos de los tipos de datos mas usados son:\n",
        "- Enteros (Int)\n",
        "- Flotantes (Float)\n",
        "- Cadenas de textos (strings)\n",
        "- Booleanos (bool)\n",
        "- Listas (list)\n",
        "- Diccionarios (dict)\n",
        "- Tuplas (tuple)\n",
        "\n",
        "Dentro de este capitulo veremos de forma rapida los 4 primeros, centrando mas atencion en los ultimos dado un capitulo completo a ellos mas adelante."
      ]
    },
    {
      "cell_type": "markdown",
      "metadata": {},
      "source": [
        "## Funcion type()\n",
        "\n",
        "Antes de comenzar a hablar y detallar los tipos de datos es importante mencionar la funcion `type()`, esta nos ayudara a identificar el tipo de dato de cualquier dato que le entreguemos, su uso es similar a la funcion `print()` que vimos mas arriba. Veamos algunos ejemplos"
      ]
    },
    {
      "cell_type": "code",
      "execution_count": 1,
      "metadata": {},
      "outputs": [
        {
          "data": {
            "text/plain": [
              "int"
            ]
          },
          "execution_count": 1,
          "metadata": {},
          "output_type": "execute_result"
        }
      ],
      "source": [
        "# Ejemplos funcion type()\n",
        "type(5)"
      ]
    },
    {
      "cell_type": "code",
      "execution_count": 2,
      "metadata": {},
      "outputs": [
        {
          "name": "stdout",
          "output_type": "stream",
          "text": [
            "<class 'int'>\n",
            "<class 'float'>\n",
            "<class 'str'>\n",
            "<class 'bool'>\n"
          ]
        }
      ],
      "source": [
        "# Mezclando la funcion print() con la funcion type()\n",
        "print(type(23))\n",
        "print(type(3.14))\n",
        "print(type('hola mundo!'))\n",
        "print(type(True))"
      ]
    },
    {
      "cell_type": "markdown",
      "metadata": {},
      "source": [
        "## Int o entero\n",
        "\n",
        "Un tipo de dato entero en computación es un tipo de dato que puede representar un subconjunto finito de los números enteros [[1]](https://es.wikipedia.org/wiki/Entero_(tipo_de_dato)). Estos pueden ser positivos o negativos e incluye el 0."
      ]
    },
    {
      "cell_type": "code",
      "execution_count": 4,
      "metadata": {
        "colab": {
          "base_uri": "https://localhost:8080/"
        },
        "id": "muppNeAy0AWP",
        "outputId": "7aeb0352-e9c1-4d34-ff8a-25ca98e8129e"
      },
      "outputs": [
        {
          "name": "stdout",
          "output_type": "stream",
          "text": [
            "<class 'int'>\n",
            "<class 'int'>\n",
            "<class 'int'>\n"
          ]
        }
      ],
      "source": [
        "print(type(100))\n",
        "print(type(0))\n",
        "print(type(-54))"
      ]
    },
    {
      "cell_type": "markdown",
      "metadata": {
        "id": "KiAuiAPXWzNN"
      },
      "source": [
        "## Float \n",
        "\n",
        "Los tipo de datos flotantes son aquellos que representan numeros con parte decimal, por lo que simepre que se vea un numero con un `.` debemos saber de inmediato que se trata de un float. Al igual que los enteros (Int) los flotantes pueden representar numeros negativos y tambien podemos representar el 0 dentro de ellos. Hay mucho que hablar de los numeros flotantes pero para el alcance de esta guia no profundizare en ellos, pero en caso que quieras saber mas te dejo el siguiente [link](https://entrenamiento-python-basico.readthedocs.io/es/latest/leccion3/tipo_numericos.html#coma-flotante) para que puedas conocer este tipo de dato mas en detalle."
      ]
    },
    {
      "cell_type": "code",
      "execution_count": 6,
      "metadata": {
        "colab": {
          "base_uri": "https://localhost:8080/"
        },
        "id": "0QB0-NGTX1FR",
        "outputId": "adec5540-7d06-4e41-cea1-68a178f169a2"
      },
      "outputs": [
        {
          "name": "stdout",
          "output_type": "stream",
          "text": [
            "<class 'float'>\n",
            "<class 'float'>\n",
            "<class 'float'>\n"
          ]
        }
      ],
      "source": [
        "print(type(-1.618))\n",
        "print(type(0.0))\n",
        "print(type(3.14))"
      ]
    },
    {
      "cell_type": "markdown",
      "metadata": {
        "id": "GnqYgXnSYzRO"
      },
      "source": [
        "## String\n",
        "\n",
        "Los strings o cadena de caracteres/texto es un tipo de dato que se utiliza para almacenar texto.\n",
        "\n",
        "Su representación puede darse con comillas simples `'hola'` o con comillas dobles `\"mundo\"` y tienen una serie de propiedades interesante que detallaremos mas adelante en el apartado especifico de strings. Por ahora veamos algunos ejemplos."
      ]
    },
    {
      "cell_type": "code",
      "execution_count": 7,
      "metadata": {
        "colab": {
          "base_uri": "https://localhost:8080/"
        },
        "id": "Bj4aGuQjZL30",
        "outputId": "7662252a-a441-4c70-8ae9-9e5a4b0a02d1"
      },
      "outputs": [
        {
          "name": "stdout",
          "output_type": "stream",
          "text": [
            "<class 'str'>\n"
          ]
        }
      ],
      "source": [
        "print(type('Guia para aprender a programar en python!'))"
      ]
    },
    {
      "cell_type": "code",
      "execution_count": 9,
      "metadata": {
        "colab": {
          "base_uri": "https://localhost:8080/"
        },
        "id": "lktFucxxZdwc",
        "outputId": "ffc455f4-5ceb-42f9-d59b-77a9c24dbe7c"
      },
      "outputs": [
        {
          "name": "stdout",
          "output_type": "stream",
          "text": [
            "<class 'str'>\n"
          ]
        }
      ],
      "source": [
        "print(type(\"Hola a todo quien lea esto :D\"))"
      ]
    },
    {
      "cell_type": "markdown",
      "metadata": {
        "id": "LSXFUlU29sdS"
      },
      "source": [
        "## Booleano o bool\n",
        "\n",
        "Es un tipo de dato que puede tomar solo 2 valor, `True` o `False`. En Python cualquier dato puede considerarse como una variable booleana. En general los elementos nulos o vacíos se consideran False y el resto se consideran True [[3]](https://www.mclibre.org/consultar/python/lecciones/python-booleanos.html)\n"
      ]
    },
    {
      "cell_type": "code",
      "execution_count": 10,
      "metadata": {},
      "outputs": [
        {
          "name": "stdout",
          "output_type": "stream",
          "text": [
            "<class 'bool'>\n",
            "<class 'bool'>\n"
          ]
        }
      ],
      "source": [
        "print(type(True))\n",
        "print(type(False))"
      ]
    }
  ],
  "metadata": {
    "colab": {
      "collapsed_sections": [
        "wV8rw-4SSYfT",
        "wM1uGWvOTa3E",
        "UIrJ8rurTygE",
        "3qQ3aIx7Unib",
        "kwrBTp-5U_8h",
        "iEC1uRpsUIlN"
      ],
      "name": "Clase0.ipynb",
      "provenance": []
    },
    "interpreter": {
      "hash": "31f2aee4e71d21fbe5cf8b01ff0e069b9275f58929596ceb00d14d90e3e16cd6"
    },
    "kernelspec": {
      "display_name": "Python 3.8.2 64-bit",
      "language": "python",
      "name": "python3"
    },
    "language_info": {
      "codemirror_mode": {
        "name": "ipython",
        "version": 3
      },
      "file_extension": ".py",
      "mimetype": "text/x-python",
      "name": "python",
      "nbconvert_exporter": "python",
      "pygments_lexer": "ipython3",
      "version": "3.8.2"
    },
    "vscode": {
      "interpreter": {
        "hash": "31f2aee4e71d21fbe5cf8b01ff0e069b9275f58929596ceb00d14d90e3e16cd6"
      }
    }
  },
  "nbformat": 4,
  "nbformat_minor": 0
}

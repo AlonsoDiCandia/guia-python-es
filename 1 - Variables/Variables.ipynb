{
 "cells": [
  {
   "cell_type": "markdown",
   "metadata": {},
   "source": [
    "# Variables y built in functions\n",
    "\n",
    "En este capitulo vamos a ver 2 grandes bases de lo que es la programacion, las cuales son variables y las built in function o funcionciones integradas en su traduccion al español. Estas utlimas como su nombre lo dice son funciones que son propias de python y fueron hechas para que las usaramos de manera sencilla y sin tener que crearlas nosotros, algunos ejemplos son la funcion `print()` y la funcion `type()` vistas en el capitulo anterior, pero no son las unicas y en la imagen que viene a continuacion podemos ver el resto de estas funciones. La imagen fue obtenida del siguiente [link](https://docs.python.org/es/3/library/functions.html) y en dicho enlace podras ver la docuemntacion oficial de cada una de las funciones.\n",
    "\n",
    "![Built in function](img/built-in-function.png)\n",
    "\n",
    "Como puedes ver son bastantes, pero repasaremos algunas que creo en mi opinion son las mas importantes de conocer.\n",
    "\n",
    "\n",
    "\n",
    "\n"
   ]
  },
  {
   "cell_type": "markdown",
   "metadata": {},
   "source": [
    "## len()\n",
    "\n",
    "La funcion `len()` nos permite saber el largo de un elemento, por ejemplo pensemos en una frase u oracion, si recuerdas del capitulo pasado esta seria del tipo de dato `string` y esta compuesta por caracteres que comunmente son letras, por ende si a una frase u oracion la colocamos dentro de la funcion `len()` esta nos devolvera la cantidad de caracteres por la cual la oracion esta compuesta. Veamos un ejemplo."
   ]
  },
  {
   "cell_type": "code",
   "execution_count": 2,
   "metadata": {},
   "outputs": [
    {
     "name": "stdout",
     "output_type": "stream",
     "text": [
      "11\n"
     ]
    }
   ],
   "source": [
    "print(len('Hola mundo!'))"
   ]
  },
  {
   "cell_type": "markdown",
   "metadata": {},
   "source": [
    "Como podemos ver hemos escrito la frase `hola mundo!`, esta esta compuesta por 11 caracteres, si, el signo de exclamacion `(!)` y el espacio `( )` tambien cuentan."
   ]
  },
  {
   "cell_type": "markdown",
   "metadata": {},
   "source": [
    "## input()\n",
    "\n",
    "La funcion `input()` es una funcion que nos permite consultar informacion al usuario y permitirle que nos escriba datos dentro de la ejecucion de nuestro codigo, veamos unos ejemplos de uso."
   ]
  },
  {
   "cell_type": "code",
   "execution_count": 4,
   "metadata": {},
   "outputs": [
    {
     "data": {
      "text/plain": [
       "'Estoy escribiendo algo dentro de la funcion input'"
      ]
     },
     "execution_count": 4,
     "metadata": {},
     "output_type": "execute_result"
    }
   ],
   "source": [
    "input()"
   ]
  },
  {
   "cell_type": "markdown",
   "metadata": {},
   "source": [
    "Es importante saber que toda informacion ingresada dentro de la funcion `input()` sera convertida y guardada en la memoria del computador como el tipo de dato `string`, por lo que si queremos trabajar con numeros deberemos tener en cuenta este detalle."
   ]
  }
 ],
 "metadata": {
  "kernelspec": {
   "display_name": "Python 3.8.9 64-bit",
   "language": "python",
   "name": "python3"
  },
  "language_info": {
   "codemirror_mode": {
    "name": "ipython",
    "version": 3
   },
   "file_extension": ".py",
   "mimetype": "text/x-python",
   "name": "python",
   "nbconvert_exporter": "python",
   "pygments_lexer": "ipython3",
   "version": "3.8.9"
  },
  "orig_nbformat": 4,
  "vscode": {
   "interpreter": {
    "hash": "31f2aee4e71d21fbe5cf8b01ff0e069b9275f58929596ceb00d14d90e3e16cd6"
   }
  }
 },
 "nbformat": 4,
 "nbformat_minor": 2
}
